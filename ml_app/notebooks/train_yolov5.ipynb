{
 "cells": [
  {
   "cell_type": "code",
   "execution_count": 1,
   "metadata": {},
   "outputs": [
    {
     "name": "stdout",
     "output_type": "stream",
     "text": [
      "Current working directory: C:\\Users\\mohan\\Desktop\\blister\\ml_app\\yolov5\n"
     ]
    }
   ],
   "source": [
    "import os\n",
    "import yaml\n",
    "from IPython.display import clear_output\n",
    "import matplotlib.pyplot as plt\n",
    "\n",
    "# Set paths\n",
    "yolov5_dir = r\"C:\\Users\\mohan\\Desktop\\blister\\ml_app\\yolov5\"\n",
    "dataset_dir = r\"C:\\Users\\mohan\\Desktop\\blister\\ml_app\\datasets\\synthetic_dataset\"\n",
    "yaml_path = r\"C:\\Users\\mohan\\Desktop\\blister\\ml_app\\datasets\\synthetic_dataset\\synthetic_dataset.yaml\"\n",
    "\n",
    "# Change working directory to YOLOv5 folder\n",
    "os.chdir(yolov5_dir)\n",
    "print(f\"Current working directory: {os.getcwd()}\")"
   ]
  },
  {
   "cell_type": "code",
   "execution_count": 2,
   "metadata": {},
   "outputs": [
    {
     "name": "stdout",
     "output_type": "stream",
     "text": [
      "YAML file contents:\n",
      "names:\n",
      "- blister\n",
      "nc: 1\n",
      "path: C:/Users/mohan/Desktop/blister/ml_app/datasets/synthetic_dataset\n",
      "test: images/test\n",
      "train: images/train\n",
      "val: images/val\n",
      "\n"
     ]
    }
   ],
   "source": [
    "with open(yaml_path, 'r') as file:\n",
    "    yaml_contents = yaml.safe_load(file)\n",
    "\n",
    "print(\"YAML file contents:\")\n",
    "print(yaml.dump(yaml_contents, default_flow_style=False))"
   ]
  },
  {
   "cell_type": "code",
   "execution_count": null,
   "metadata": {},
   "outputs": [],
   "source": [
    "#!python train.py --img 640 --batch 4 --epochs 50 --data {yaml_path} --weights yolov5s.pt --project runs/train --name synthetic_blister_detection --cache\n"
   ]
  },
  {
   "cell_type": "markdown",
   "metadata": {},
   "source": [
    "# Fine tuning"
   ]
  },
  {
   "cell_type": "code",
   "execution_count": null,
   "metadata": {},
   "outputs": [],
   "source": []
  }
 ],
 "metadata": {
  "kernelspec": {
   "display_name": "meroenv",
   "language": "python",
   "name": "python3"
  },
  "language_info": {
   "codemirror_mode": {
    "name": "ipython",
    "version": 3
   },
   "file_extension": ".py",
   "mimetype": "text/x-python",
   "name": "python",
   "nbconvert_exporter": "python",
   "pygments_lexer": "ipython3",
   "version": "3.12.7"
  }
 },
 "nbformat": 4,
 "nbformat_minor": 2
}
