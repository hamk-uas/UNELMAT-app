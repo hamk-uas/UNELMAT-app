{
 "cells": [
  {
   "cell_type": "code",
   "execution_count": 9,
   "metadata": {},
   "outputs": [
    {
     "name": "stdout",
     "output_type": "stream",
     "text": [
      "Project root: c:\\Users\\mohan\\Desktop\\blister\n",
      "YOLOv5 path: c:\\Users\\mohan\\Desktop\\blister\\ml_app\\yolov5\n"
     ]
    }
   ],
   "source": [
    "# Import libraries and modules\n",
    "import os\n",
    "import sys\n",
    "import django\n",
    "from pathlib import Path\n",
    "\n",
    "# Define project root path (adjust the relative path as needed)\n",
    "project_root = Path(os.path.abspath(os.path.join(os.getcwd(), '..', '..')))\n",
    "\n",
    "# Add the project root and YOLOv5 to the system path\n",
    "sys.path.append(str(project_root))\n",
    "yolov5_path = project_root / 'ml_app' / 'yolov5'\n",
    "sys.path.append(str(yolov5_path))\n",
    "\n",
    "# Check paths\n",
    "print(\"Project root:\", project_root)\n",
    "print(\"YOLOv5 path:\", yolov5_path)\n"
   ]
  },
  {
   "cell_type": "code",
   "execution_count": 10,
   "metadata": {},
   "outputs": [
    {
     "name": "stdout",
     "output_type": "stream",
     "text": [
      "Django setup completed.\n"
     ]
    }
   ],
   "source": [
    "# Django setup\n",
    "os.environ.setdefault(\"DJANGO_SETTINGS_MODULE\", \"myproject.settings\")\n",
    "django.setup()\n",
    "\n",
    "# Import Django models\n",
    "from app.models import Folder, Image\n",
    "from ml_app.models import MLResult\n",
    "\n",
    "# Check Django setup\n",
    "print(\"Django setup completed.\")\n"
   ]
  },
  {
   "cell_type": "code",
   "execution_count": 13,
   "metadata": {},
   "outputs": [
    {
     "name": "stderr",
     "output_type": "stream",
     "text": [
      "YOLOv5  v7.0-371-g6629839d Python-3.12.7 torch-2.4.1+cu118 CUDA:0 (NVIDIA GeForce GTX 1650 Ti with Max-Q Design, 4096MiB)\n",
      "\n"
     ]
    },
    {
     "name": "stdout",
     "output_type": "stream",
     "text": [
      "Using device: cuda:0\n"
     ]
    }
   ],
   "source": [
    "# Import YOLOv5\n",
    "import torch\n",
    "from models.experimental import attempt_load\n",
    "from utils.general import check_img_size, non_max_suppression\n",
    "from utils.augmentations import letterbox\n",
    "from utils.torch_utils import select_device\n",
    "\n",
    "# CUDA setup\n",
    "device = select_device('0' if torch.cuda.is_available() else 'cpu')\n",
    "print(\"Using device:\", device)\n",
    "\n",
    "# YOLOv5 model setup\n",
    "# model_path = project_root / 'ml_app' / 'weights' / 'best.pt'\n",
    "# model = attempt_load(model_path, device=device)\n",
    "# stride = int(model.stride.max())\n",
    "# imgsz = check_img_size(640, s=stride)\n",
    "\n",
    "# print(\"Model loaded successfully.\")\n"
   ]
  },
  {
   "cell_type": "code",
   "execution_count": null,
   "metadata": {},
   "outputs": [],
   "source": []
  }
 ],
 "metadata": {
  "kernelspec": {
   "display_name": "meroenv",
   "language": "python",
   "name": "python3"
  },
  "language_info": {
   "codemirror_mode": {
    "name": "ipython",
    "version": 3
   },
   "file_extension": ".py",
   "mimetype": "text/x-python",
   "name": "python",
   "nbconvert_exporter": "python",
   "pygments_lexer": "ipython3",
   "version": "3.12.7"
  }
 },
 "nbformat": 4,
 "nbformat_minor": 2
}
